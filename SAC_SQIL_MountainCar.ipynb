{
  "nbformat": 4,
  "nbformat_minor": 0,
  "metadata": {
    "colab": {
      "name": "SAC_SQIL_MountainCar.ipynb",
      "provenance": [],
      "collapsed_sections": []
    },
    "kernelspec": {
      "name": "python3",
      "display_name": "Python 3"
    },
    "accelerator": "GPU"
  },
  "cells": [
    {
      "cell_type": "code",
      "metadata": {
        "id": "eP8e9dKYFuHd"
      },
      "source": [
        "!pip install box2d-py\n",
        "!pip install stable-baselines3\n",
        "!pip install git+https://github.com/indrasweb/expert-offline-rl.git"
      ],
      "execution_count": null,
      "outputs": []
    },
    {
      "cell_type": "code",
      "metadata": {
        "id": "IitdeHDwF3rx"
      },
      "source": [
        "import numpy as np\n",
        "from google.colab import drive\n",
        "import gym\n",
        "from eorl import OfflineDataset\n",
        "import os\n",
        "import pandas as pd\n",
        "import seaborn as sns\n",
        "import matplotlib.pyplot as plt\n",
        "\n",
        "import torch as T\n",
        "import torch.nn as nn\n",
        "\n",
        "from stable_baselines3.common.utils import set_random_seed\n",
        "from stable_baselines3.common.env_util import make_atari_env\n",
        "from stable_baselines3.common.vec_env import VecFrameStack\n",
        "from stable_baselines3.common.monitor import Monitor\n",
        "from stable_baselines3.common.callbacks import CheckpointCallback\n",
        "from stable_baselines3.common.type_aliases import ReplayBufferSamples\n",
        "from stable_baselines3.common.buffers import ReplayBuffer\n",
        "from stable_baselines3 import SAC"
      ],
      "execution_count": 2,
      "outputs": []
    },
    {
      "cell_type": "code",
      "metadata": {
        "id": "OUG8MAapGDaM"
      },
      "source": [
        "DEVICE = T.device('cuda' if T.cuda.is_available() else 'cpu')\n",
        "ENV_NAME = 'MountainCarContinuous-v0'\n",
        "DS_NAME = 'MountainCarContinuous-v0'\n",
        "SAVE_DIR = 'gdrive/MyDrive/SQIL/Imitation/'\n",
        "ONLINE_STEPS = 1e5\n",
        "EXPERT_STEPS = 1e5\n",
        "SEED = 1337"
      ],
      "execution_count": 11,
      "outputs": []
    },
    {
      "cell_type": "code",
      "metadata": {
        "id": "BeYYE97iemC3",
        "colab": {
          "base_uri": "https://localhost:8080/"
        },
        "outputId": "2f1fb92e-b8cc-4ae9-9ac6-853aecb10c16"
      },
      "source": [
        "drive.mount('/content/gdrive/')  # model checkpoints + training stats \n",
        "set_random_seed(SEED)  # torch, np and py seeds\n",
        "ds = OfflineDataset(ENV_NAME, dataset_size=EXPERT_STEPS)\n",
        "\n",
        "if not os.path.exists(SAVE_DIR):\n",
        "    os.makedirs(SAVE_DIR)"
      ],
      "execution_count": 12,
      "outputs": [
        {
          "output_type": "stream",
          "text": [
            "Drive already mounted at /content/gdrive/; to attempt to forcibly remount, call drive.mount(\"/content/gdrive/\", force_remount=True).\n"
          ],
          "name": "stdout"
        }
      ]
    },
    {
      "cell_type": "code",
      "metadata": {
        "colab": {
          "base_uri": "https://localhost:8080/"
        },
        "id": "5IuamzwgsE3L",
        "outputId": "789f695f-926e-444d-ed21-4ae920b03e67"
      },
      "source": [
        "env = Monitor(gym.make(ENV_NAME), filename=SAVE_DIR+ENV_NAME)\n",
        "\n",
        "checkpoint_callback = CheckpointCallback(\n",
        "    save_freq=ONLINE_STEPS, \n",
        "    save_path=SAVE_DIR, \n",
        "    name_prefix=ENV_NAME\n",
        ")\n",
        "\n",
        "model = SAC(\n",
        "    env=env,\n",
        "    policy='MlpPolicy',\n",
        "    learning_starts=0,\n",
        "    learning_rate=3e-4,\n",
        "    buffer_size=50000,\n",
        "    batch_size=512,\n",
        "    ent_coef=0.1,\n",
        "    train_freq=32,\n",
        "    gradient_steps=32,\n",
        "    gamma=0.9999,\n",
        "    tau=0.01,\n",
        "    verbose=1,\n",
        "    use_sde=True,\n",
        "    policy_kwargs=dict(log_std_init=-3.67, net_arch=[64, 64])\n",
        ")"
      ],
      "execution_count": 13,
      "outputs": [
        {
          "output_type": "stream",
          "text": [
            "Using cuda device\n",
            "Wrapping the env in a DummyVecEnv.\n"
          ],
          "name": "stdout"
        }
      ]
    },
    {
      "cell_type": "code",
      "metadata": {
        "id": "ntDDp64BSaiQ"
      },
      "source": [
        "expert_buffer = ReplayBuffer(\n",
        "    20000, \n",
        "    model.replay_buffer.observation_space, \n",
        "    model.replay_buffer.action_space, \n",
        "    DEVICE\n",
        ")\n",
        "\n",
        "def populate_expert_buffer(expert_buf, expert_ds, num_samples=20000):\n",
        "    batch_size = 500\n",
        "    batches = num_samples // batch_size\n",
        "    \n",
        "    for _ in range(batches):\n",
        "        obs, acts, rwds, dones, next_obs = expert_ds.batch(batch_size)        \n",
        "        for i in range(batch_size):\n",
        "            expert_buf.add(obs[i], next_obs[i], acts[i], rwds[i], dones[i])"
      ],
      "execution_count": 14,
      "outputs": []
    },
    {
      "cell_type": "code",
      "metadata": {
        "id": "s7xObwbidNSK"
      },
      "source": [
        "def modified_replay_buffer_sample(batch_size: int, env) -> ReplayBufferSamples:\n",
        "    online_samples = super(model.replay_buffer.__class__, model.replay_buffer).sample(batch_size//2, env)\n",
        "    expert_samples = expert_buffer.sample(batch_size//2, env)\n",
        "    obs      = T.cat((online_samples.observations, expert_samples.observations))\n",
        "    actions  = T.cat((online_samples.actions, expert_samples.actions))\n",
        "    next_obs = T.cat((online_samples.next_observations, expert_samples.next_observations))\n",
        "    rewards  = T.cat((T.zeros_like(online_samples.rewards), T.ones_like(expert_samples.rewards)))\n",
        "    dones    = T.cat((online_samples.dones, expert_samples.dones))\n",
        "    \n",
        "    return ReplayBufferSamples(obs, actions, next_obs, dones, rewards)\n",
        "\n",
        "model.replay_buffer.sample = modified_replay_buffer_sample"
      ],
      "execution_count": 15,
      "outputs": []
    },
    {
      "cell_type": "code",
      "metadata": {
        "id": "vdcc3FOg1lvi"
      },
      "source": [
        "populate_expert_buffer(expert_buffer, ds, int(EXPERT_STEPS))"
      ],
      "execution_count": 18,
      "outputs": []
    },
    {
      "cell_type": "code",
      "metadata": {
        "colab": {
          "base_uri": "https://localhost:8080/"
        },
        "id": "P7f1m5gnd8XY",
        "outputId": "f9e72ca6-4c27-4a47-9294-1e87cdccbc19"
      },
      "source": [
        "model.learn(ONLINE_STEPS, log_interval=10, callback=checkpoint_callback)"
      ],
      "execution_count": 19,
      "outputs": [
        {
          "output_type": "stream",
          "text": [
            "---------------------------------\n",
            "| rollout/           |          |\n",
            "|    ep_len_mean     | 745      |\n",
            "|    ep_rew_mean     | 22.2     |\n",
            "| time/              |          |\n",
            "|    episodes        | 10       |\n",
            "|    fps             | 86       |\n",
            "|    time_elapsed    | 86       |\n",
            "|    total timesteps | 7447     |\n",
            "| train/             |          |\n",
            "|    actor_loss      | -28.4    |\n",
            "|    critic_loss     | 1.07     |\n",
            "|    ent_coef        | 0.1      |\n",
            "|    learning_rate   | 0.0003   |\n",
            "|    n_updates       | 7424     |\n",
            "|    std             | 0.0271   |\n",
            "---------------------------------\n",
            "---------------------------------\n",
            "| rollout/           |          |\n",
            "|    ep_len_mean     | 591      |\n",
            "|    ep_rew_mean     | 51.9     |\n",
            "| time/              |          |\n",
            "|    episodes        | 20       |\n",
            "|    fps             | 86       |\n",
            "|    time_elapsed    | 136      |\n",
            "|    total timesteps | 11815    |\n",
            "| train/             |          |\n",
            "|    actor_loss      | -40.9    |\n",
            "|    critic_loss     | 1.4      |\n",
            "|    ent_coef        | 0.1      |\n",
            "|    learning_rate   | 0.0003   |\n",
            "|    n_updates       | 11808    |\n",
            "|    std             | 0.0276   |\n",
            "---------------------------------\n",
            "---------------------------------\n",
            "| rollout/           |          |\n",
            "|    ep_len_mean     | 660      |\n",
            "|    ep_rew_mean     | 43.5     |\n",
            "| time/              |          |\n",
            "|    episodes        | 30       |\n",
            "|    fps             | 86       |\n",
            "|    time_elapsed    | 228      |\n",
            "|    total timesteps | 19785    |\n",
            "| train/             |          |\n",
            "|    actor_loss      | -59.2    |\n",
            "|    critic_loss     | 3.82     |\n",
            "|    ent_coef        | 0.1      |\n",
            "|    learning_rate   | 0.0003   |\n",
            "|    n_updates       | 19776    |\n",
            "|    std             | 0.0266   |\n",
            "---------------------------------\n",
            "---------------------------------\n",
            "| rollout/           |          |\n",
            "|    ep_len_mean     | 744      |\n",
            "|    ep_rew_mean     | 30.9     |\n",
            "| time/              |          |\n",
            "|    episodes        | 40       |\n",
            "|    fps             | 86       |\n",
            "|    time_elapsed    | 344      |\n",
            "|    total timesteps | 29775    |\n",
            "| train/             |          |\n",
            "|    actor_loss      | -82.2    |\n",
            "|    critic_loss     | 4.61     |\n",
            "|    ent_coef        | 0.1      |\n",
            "|    learning_rate   | 0.0003   |\n",
            "|    n_updates       | 29760    |\n",
            "|    std             | 0.0284   |\n",
            "---------------------------------\n",
            "---------------------------------\n",
            "| rollout/           |          |\n",
            "|    ep_len_mean     | 795      |\n",
            "|    ep_rew_mean     | 23.1     |\n",
            "| time/              |          |\n",
            "|    episodes        | 50       |\n",
            "|    fps             | 86       |\n",
            "|    time_elapsed    | 459      |\n",
            "|    total timesteps | 39765    |\n",
            "| train/             |          |\n",
            "|    actor_loss      | -95.8    |\n",
            "|    critic_loss     | 5.55     |\n",
            "|    ent_coef        | 0.1      |\n",
            "|    learning_rate   | 0.0003   |\n",
            "|    n_updates       | 39744    |\n",
            "|    std             | 0.0298   |\n",
            "---------------------------------\n",
            "---------------------------------\n",
            "| rollout/           |          |\n",
            "|    ep_len_mean     | 829      |\n",
            "|    ep_rew_mean     | 17       |\n",
            "| time/              |          |\n",
            "|    episodes        | 60       |\n",
            "|    fps             | 86       |\n",
            "|    time_elapsed    | 575      |\n",
            "|    total timesteps | 49755    |\n",
            "| train/             |          |\n",
            "|    actor_loss      | -105     |\n",
            "|    critic_loss     | 9.14     |\n",
            "|    ent_coef        | 0.1      |\n",
            "|    learning_rate   | 0.0003   |\n",
            "|    n_updates       | 49728    |\n",
            "|    std             | 0.0314   |\n",
            "---------------------------------\n",
            "---------------------------------\n",
            "| rollout/           |          |\n",
            "|    ep_len_mean     | 854      |\n",
            "|    ep_rew_mean     | 10.8     |\n",
            "| time/              |          |\n",
            "|    episodes        | 70       |\n",
            "|    fps             | 86       |\n",
            "|    time_elapsed    | 692      |\n",
            "|    total timesteps | 59745    |\n",
            "| train/             |          |\n",
            "|    actor_loss      | -118     |\n",
            "|    critic_loss     | 7.89     |\n",
            "|    ent_coef        | 0.1      |\n",
            "|    learning_rate   | 0.0003   |\n",
            "|    n_updates       | 59744    |\n",
            "|    std             | 0.0347   |\n",
            "---------------------------------\n",
            "---------------------------------\n",
            "| rollout/           |          |\n",
            "|    ep_len_mean     | 872      |\n",
            "|    ep_rew_mean     | 7.32     |\n",
            "| time/              |          |\n",
            "|    episodes        | 80       |\n",
            "|    fps             | 86       |\n",
            "|    time_elapsed    | 807      |\n",
            "|    total timesteps | 69735    |\n",
            "| train/             |          |\n",
            "|    actor_loss      | -124     |\n",
            "|    critic_loss     | 7.91     |\n",
            "|    ent_coef        | 0.1      |\n",
            "|    learning_rate   | 0.0003   |\n",
            "|    n_updates       | 69728    |\n",
            "|    std             | 0.0409   |\n",
            "---------------------------------\n",
            "---------------------------------\n",
            "| rollout/           |          |\n",
            "|    ep_len_mean     | 886      |\n",
            "|    ep_rew_mean     | 4.95     |\n",
            "| time/              |          |\n",
            "|    episodes        | 90       |\n",
            "|    fps             | 86       |\n",
            "|    time_elapsed    | 922      |\n",
            "|    total timesteps | 79725    |\n",
            "| train/             |          |\n",
            "|    actor_loss      | -126     |\n",
            "|    critic_loss     | 9.16     |\n",
            "|    ent_coef        | 0.1      |\n",
            "|    learning_rate   | 0.0003   |\n",
            "|    n_updates       | 79712    |\n",
            "|    std             | 0.0376   |\n",
            "---------------------------------\n",
            "---------------------------------\n",
            "| rollout/           |          |\n",
            "|    ep_len_mean     | 897      |\n",
            "|    ep_rew_mean     | 3.62     |\n",
            "| time/              |          |\n",
            "|    episodes        | 100      |\n",
            "|    fps             | 86       |\n",
            "|    time_elapsed    | 1037     |\n",
            "|    total timesteps | 89715    |\n",
            "| train/             |          |\n",
            "|    actor_loss      | -130     |\n",
            "|    critic_loss     | 12.1     |\n",
            "|    ent_coef        | 0.1      |\n",
            "|    learning_rate   | 0.0003   |\n",
            "|    n_updates       | 89696    |\n",
            "|    std             | 0.0348   |\n",
            "---------------------------------\n",
            "---------------------------------\n",
            "| rollout/           |          |\n",
            "|    ep_len_mean     | 923      |\n",
            "|    ep_rew_mean     | 0.91     |\n",
            "| time/              |          |\n",
            "|    episodes        | 110      |\n",
            "|    fps             | 86       |\n",
            "|    time_elapsed    | 1152     |\n",
            "|    total timesteps | 99705    |\n",
            "| train/             |          |\n",
            "|    actor_loss      | -144     |\n",
            "|    critic_loss     | 9.97     |\n",
            "|    ent_coef        | 0.1      |\n",
            "|    learning_rate   | 0.0003   |\n",
            "|    n_updates       | 99680    |\n",
            "|    std             | 0.0397   |\n",
            "---------------------------------\n"
          ],
          "name": "stdout"
        },
        {
          "output_type": "execute_result",
          "data": {
            "text/plain": [
              "<stable_baselines3.sac.sac.SAC at 0x7f279a814110>"
            ]
          },
          "metadata": {
            "tags": []
          },
          "execution_count": 19
        }
      ]
    },
    {
      "cell_type": "code",
      "metadata": {
        "colab": {
          "base_uri": "https://localhost:8080/",
          "height": 611
        },
        "id": "fWnAam1PgqS2",
        "outputId": "5605574a-b2ca-4e03-d8f2-e201f1f7fe9e"
      },
      "source": [
        " def plot_log(df_path):\n",
        "\n",
        "    with open(df_path, \"rt\") as f:\n",
        "        _ = f.readline()\n",
        "        df = pd.read_csv(f)\n",
        "        df.sort_values(\"t\", inplace=True)\n",
        "        df.reset_index(inplace=True)\n",
        "\n",
        "    # compute rolling avg and std\n",
        "    sma_y = df['r'].rolling(100, min_periods=1).mean()\n",
        "    std_y = df['r'].rolling(100, min_periods=1).std()\n",
        "    \n",
        "    # plot with seaborn\n",
        "    sns.set()\n",
        "    fig, ax = plt.subplots(figsize=(10,10))\n",
        "    ax.set_xlabel('Timesteps')\n",
        "    ax.set_ylabel('Reward')\n",
        "    clrs = sns.color_palette(\"husl\", 8)\n",
        "\n",
        "    true_x = (ONLINE_STEPS // max(df['index'])) * df['index']\n",
        "\n",
        "    # fill standard deviation\n",
        "    ax.plot(true_x, sma_y, c=clrs[0])\n",
        "    ax.fill_between(true_x, sma_y-std_y,  sma_y+std_y, \n",
        "                    alpha=0.3, facecolor=clrs[0]) \n",
        "    plt.savefig(SAVE_DIR+ENV_NAME+'.reward_history.png', \n",
        "                dpi=300, pad_inches=0)\n",
        "    plt.show()\n",
        "\n",
        "plot_log(SAVE_DIR+ENV_NAME+'.monitor.csv')"
      ],
      "execution_count": 20,
      "outputs": [
        {
          "output_type": "display_data",
          "data": {
            "image/png": "[encoded data removed]",
            "text/plain": [
              "<Figure size 720x720 with 1 Axes>"
            ]
          },
          "metadata": {
            "tags": []
          }
        }
      ]
    }
  ]
}